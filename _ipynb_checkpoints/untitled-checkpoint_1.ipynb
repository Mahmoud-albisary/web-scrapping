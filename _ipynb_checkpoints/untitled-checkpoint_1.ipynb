{
 "cells": [
  {
   "cell_type": "code",
   "execution_count": 1,
   "metadata": {},
   "outputs": [
    {
     "name": "stdout",
     "output_type": "stream",
     "text": [
      " \n",
      " \n",
      " \n",
      " \n",
      " \n",
      " \n",
      " \n",
      " \n",
      " \n",
      " \n",
      " \n",
      " \n",
      " \n",
      " \n",
      " \n",
      " \n",
      " \n",
      " \n",
      " \n",
      " \n",
      "         price                city                        address  beds\n",
      "0     $449,900  RockSpringsGA30739             1093BicentennialTr     5\n",
      "1     $188,900   RockSpringGA30739                   177CattailDr     3\n",
      "2     $259,900   RockSpringGA30739             115GingerLakeDrive     4\n",
      "3     $241,900   RockSpringGA30739                754GingerLakeDr     3\n",
      "4     $340,000   RockSpringGA30739              512WindingRidgeRd     4\n",
      "5     $340,000   RockSpringGA30739                512WindingRidge     4\n",
      "6      $52,000   RockSpringGA30739                  000McintireRd  None\n",
      "7       $9,000   RockSpringGA30739                       OldHwy27  None\n",
      "8     $164,900   RockSpringGA30739                FieldstoneDrive  None\n",
      "9      $15,995   RockSpringGA30739                   PeavineWay23  None\n",
      "10  $1,700,000   RockSpringGA30739                    -NHighway27  None\n",
      "11    $550,000   RockSpringGA30739                    10161NHwy27  None\n",
      "12    $500,000   RockSpringGA30739  00Phase2GingerLakeEstatesDr58  None\n",
      "13    $425,000   RockSpringGA30739                15590AlabamaHwy     3\n",
      "14    $350,000   RockSpringGA30739                    67TrinityLn     3\n",
      "15    $339,000   RockSpringGA30739                 197FarmViewCir     4\n",
      "16    $283,500   RockSpringGA30739               376GuyWilliamsRd  None\n",
      "17    $275,000   RockSpringGA30739                 50TwelveOaksDr     4\n",
      "18    $274,900   RockSpringGA30739                 31GingerLakeDr     3\n",
      "19    $269,000   RockSpringGA30739                    189ArnoldRd     3\n"
     ]
    }
   ],
   "source": [
    "import requests\n",
    "from bs4 import BeautifulSoup\n",
    "import pandas\n",
    "\n",
    "r = requests.get(\"https://www.century21.com/real-estate/rock-spring-ga/LCGAROCKSPRING/\", headers={'User-agent': 'Mozilla/5.0 (X11; Ubuntu; Linux x86_64; rv:61.0) Gecko/20100101 Firefox/61.0'})\n",
    "c = r.content\n",
    "\n",
    "content = BeautifulSoup(c, \"html.parser\")\n",
    "all = content.find_all(\"div\", {\"class\":\"property-card-primary-info\"})\n",
    "a = []\n",
    "for items in all:\n",
    "    d = {}\n",
    "    x = items.find(\"div\", {\"class\":\"property-beds\"})\n",
    "    d[\"price\"] = items.find(\"a\", {\"class\":\"listing-price\"}).text.replace(\"\\n\",\"\").replace(\" \", \"\")\n",
    "    d[\"city\"] = items.find(\"div\", {\"class\":\"property-city\"}).text.replace(\"\\n\",\"\").replace(\" \",\"\")\n",
    "    d[\"address\"] = items.find(\"div\", {\"class\":\"property-address\"}).text.replace(\"\\n\",\"\").replace(\" \", \"\")\n",
    "    if x != None:\n",
    "        for items in x.text:\n",
    "            try :\n",
    "                int(items)\n",
    "                d[\"beds\"] = items\n",
    "            except:\n",
    "                pass\n",
    "    else:\n",
    "        d[\"beds\"] = None\n",
    "    print(\" \")\n",
    "    a.append(d)\n",
    "df = pandas.DataFrame(a)\n",
    "df.to_csv(\"finals.xlsx\")\n",
    "print(df)\n"
   ]
  },
  {
   "cell_type": "code",
   "execution_count": null,
   "metadata": {},
   "outputs": [],
   "source": []
  }
 ],
 "metadata": {
  "kernelspec": {
   "display_name": "Python 3",
   "language": "python",
   "name": "python3"
  },
  "language_info": {
   "codemirror_mode": {
    "name": "ipython",
    "version": 3
   },
   "file_extension": ".py",
   "mimetype": "text/x-python",
   "name": "python",
   "nbconvert_exporter": "python",
   "pygments_lexer": "ipython3",
   "version": "3.7.7"
  }
 },
 "nbformat": 4,
 "nbformat_minor": 4
}
